{
 "cells": [
  {
   "cell_type": "code",
   "execution_count": null,
   "id": "035bafa7",
   "metadata": {},
   "outputs": [],
   "source": [
    "import imageio\n",
    "from PIL import Image, ImageOps\n",
    "\n",
    "import tensorflow as tf\n",
    "from keras_preprocessing.image import ImageDataGenerator\n",
    "from tensorflow.keras.preprocessing import image\n",
    "from tensorflow.keras import backend as K\n",
    "from tensorflow.keras.layers import *\n",
    "from tensorflow.keras.models import *\n",
    "from tensorflow.keras.optimizers import *\n",
    "from tensorflow.keras.applications import VGG19\n",
    "from sklearn.model_selection import train_test_split"
   ]
  },
  {
   "cell_type": "code",
   "execution_count": null,
   "id": "6c3d507e",
   "metadata": {},
   "outputs": [],
   "source": [
    "images_folder = 'Dataset/augmentation/images/img/'\n",
    "masks_folder = 'Dataset/augmentation/masks/img/'"
   ]
  },
  {
   "cell_type": "markdown",
   "id": "36c4cdd9",
   "metadata": {},
   "source": [
    "# Preprocess Data"
   ]
  },
  {
   "cell_type": "code",
   "execution_count": null,
   "id": "8059480f",
   "metadata": {},
   "outputs": [],
   "source": [
    "def LoadDataset(images_folder, masks_folder):\n",
    "    \"\"\"\n",
    "    Looks for relevant filenames in the shared path\n",
    "    Returns 2 lists for original and masked files respectively\n",
    "    \n",
    "    \"\"\"\n",
    "    # Create images and masks list then sort them\n",
    "    images_dataset = os.listdir(images_folder)\n",
    "    masks_dataset = os.listdir(masks_folder)\n",
    "\n",
    "    images_dataset.sort()\n",
    "    masks_dataset.sort()\n",
    "    \n",
    "    return images_dataset, masks_dataset\n",
    "\n",
    "\n",
    "def view_image(img_array, mask_array):\n",
    "    \"\"\"\n",
    "    View image\n",
    "    \"\"\"\n",
    "\n",
    "    print(f'image dimension: {img_array.shape}')\n",
    "    print(f'mask dimension: {mask_array.shape}')\n",
    "\n",
    "    fig, ax = plt.subplots(1, 2, figsize=(15, 15))\n",
    "    ax[0].imshow(img_array)\n",
    "    ax[1].imshow(mask_array)\n",
    "    \n",
    "\n",
    "def preprocess_data(images_folder, masks_folder, target_shape_img = (256,256,3),\n",
    "                    target_shape_mask = (256,256,1)):\n",
    "    # Pull the relevant dimensions for image and mask\n",
    "    images, masks = LoadDataset(images_folder, masks_folder)\n",
    "    m = len(images)                     # number of images\n",
    "    i_h,i_w,i_c = target_shape_img   # pull height, width, and channels of image\n",
    "    m_h,m_w,m_c = target_shape_mask  # pull height, width, and channels of mask\n",
    "    \n",
    "    # Define X and Y as number of images along with shape of one image\n",
    "    X = np.zeros((m,i_h,i_w,i_c), dtype=np.float32)\n",
    "    y = np.zeros((m,m_h,m_w,m_c), dtype=np.int32)\n",
    "    \n",
    "    # Resize images and masks\n",
    "    for img in images:\n",
    "        # convert image into an array of desired shape (3 channels)\n",
    "        index = images.index(img)\n",
    "        path = os.path.join(images_folder, img)\n",
    "        single_img = Image.open(path).convert('RGB')\n",
    "        single_img = single_img.resize((i_h,i_w))\n",
    "        single_img = np.reshape(single_img,(i_h,i_w,i_c)) \n",
    "        single_img = single_img/255.\n",
    "        X[index] = single_img\n",
    "        \n",
    "        # convert mask into an array of desired shape (1 channel)\n",
    "        single_mask_ind = masks[index]\n",
    "        path = os.path.join(masks_folder, single_mask_ind)\n",
    "        single_mask = Image.open(path)\n",
    "        single_mask = ImageOps.grayscale(single_mask)\n",
    "        single_mask = np.reshape(single_mask,(m_h,m_w,m_c)) \n",
    "        single_mask = single_mask//255 # to ensure classes #s start from 0\n",
    "        y[index] = single_mask\n",
    "\n",
    "    return X,y"
   ]
  },
  {
   "cell_type": "code",
   "execution_count": null,
   "id": "ccec6ecf",
   "metadata": {},
   "outputs": [],
   "source": [
    "images, masks = LoadDataset(images_folder, masks_folder)\n",
    "X,y = preprocess_data(images_folder, masks_folder)\n",
    "# Splitting Data\n",
    "X_train, X_valid, y_train, y_valid = train_test_split(X, y, test_size=0.2, random_state=42)"
   ]
  },
  {
   "cell_type": "markdown",
   "id": "ba7e0f8b",
   "metadata": {},
   "source": [
    "# Training Model"
   ]
  },
  {
   "cell_type": "code",
   "execution_count": null,
   "id": "71021c21",
   "metadata": {},
   "outputs": [],
   "source": [
    "def conv_block(input, num_filters):\n",
    "    x = Conv2D(num_filters, (3,3), padding = 'same', activation = 'relu')(input)\n",
    "    x = Conv2D(num_filters, (3,3), padding = 'same', activation = 'relu')(x)\n",
    "    return x\n",
    "\n",
    "\n",
    "def contracting_block(input, num_filters):\n",
    "    x = conv_block(input, num_filters)\n",
    "    p = MaxPooling2D(pool_size = (2,2))(x)\n",
    "    return x, p\n",
    "\n",
    "\n",
    "def expansive_block(input, skip_connection, num_filters):\n",
    "    x = Conv2DTranspose(num_filters, (2,2), strides = 2, padding = 'same')(input)\n",
    "    x = Concatenate()([x, skip_connection])\n",
    "    x = conv_block(x, num_filters)\n",
    "    return x\n",
    "\n",
    "# Model 1\n",
    "def unet(input_shape):\n",
    "    input = Input(input_shape)\n",
    "    x1, p1 = contracting_block(input, 64)\n",
    "    x2, p2 = contracting_block(p1, 128)\n",
    "    x3, p3 = contracting_block(p2, 256)\n",
    "    x4, p4 = contracting_block(p3, 512)\n",
    "\n",
    "    x5 = conv_block(p4, 1024)\n",
    "\n",
    "    x6 = expansive_block(x5, x4, 512)\n",
    "    x7 = expansive_block(x6, x3, 256)\n",
    "    x8 = expansive_block(x7, x2, 128)\n",
    "    x9 = expansive_block(x8, x1, 64)\n",
    "\n",
    "    x10 = Conv2D(1, (1,1), padding = 'same', activation = 'sigmoid')(x9)\n",
    "\n",
    "    model = Model(input, x10, name = 'U-Net')\n",
    "\n",
    "    return model\n",
    "\n",
    "\n",
    "# Model 2\n",
    "def unetmod(input_shape):\n",
    "    input = Input(input_shape)\n",
    "    x1, p1 = contracting_block(input, 32)\n",
    "    x2, p2 = contracting_block(p1, 64)\n",
    "    x3, p3 = contracting_block(p2, 128)\n",
    "    x4, p4 = contracting_block(p3, 256)\n",
    "\n",
    "    x5 = conv_block(p4, 512)\n",
    "\n",
    "    x6 = expansive_block(x5, x4, 256)\n",
    "    x7 = expansive_block(x6, x3, 128)\n",
    "    x8 = expansive_block(x7, x2, 64)\n",
    "    x9 = expansive_block(x8, x1, 32)\n",
    "\n",
    "    x10 = Conv2D(1, (1,1), padding = 'same', activation = 'sigmoid')(x9)\n",
    "\n",
    "    model = Model(input, x10, name = 'U-Net_Modification')\n",
    "\n",
    "    return model\n",
    "\n",
    "\n",
    "# Model 3\n",
    "def unet_vgg19(input_shape):\n",
    "    input = Input(input_shape)\n",
    "\n",
    "    vgg19 = VGG19(include_top=False, weights=\"imagenet\", input_tensor=input)\n",
    "    for layer in vgg19.layers:\n",
    "        layer.trainable = False\n",
    "\n",
    "    x1 = vgg19.get_layer('block1_conv2').output\n",
    "    x2 = vgg19.get_layer('block2_conv2').output\n",
    "    x3 = vgg19.get_layer('block3_conv4').output\n",
    "    x4 = vgg19.get_layer('block4_conv4').output\n",
    "\n",
    "    x5 = vgg19.get_layer('block5_conv4').output\n",
    "\n",
    "    x6 = expansive_block(x5, x4, 512)\n",
    "    x7 = expansive_block(x6, x3, 256)\n",
    "    x8 = expansive_block(x7, x2, 128)\n",
    "    x9 = expansive_block(x8, x1, 64)\n",
    "\n",
    "    x10 = Conv2D(1, (1,1), padding = 'same', activation = 'sigmoid')(x9)\n",
    "\n",
    "    model = Model(input, x10, name = 'U-Net_vgg19')\n",
    "\n",
    "    return model"
   ]
  },
  {
   "cell_type": "code",
   "execution_count": null,
   "id": "2d3252b2",
   "metadata": {},
   "outputs": [],
   "source": [
    "# Function to calculate IoU\n",
    "def BinaryIoU_func(y_true, y_pred):\n",
    "    pred = tf.where(y_pred>=0.5, 1, 0)\n",
    "    pred = tf.cast(pred, dtype = tf.float32)\n",
    "    true = tf.cast(y_true, dtype = tf.float32)\n",
    "    n_true = tf.reduce_sum(true)\n",
    "    n_pred = tf.reduce_sum(pred)\n",
    "    intersection = tf.reduce_sum(pred * true)\n",
    "    union = n_true + n_pred - intersection\n",
    "    iou = intersection/union\n",
    "    return iou"
   ]
  },
  {
   "cell_type": "code",
   "execution_count": null,
   "id": "1378b70a",
   "metadata": {},
   "outputs": [],
   "source": [
    "# Function to save model\n",
    "def save_segmentation_model(model_name, model, history):\n",
    "    dir = f'SegmentationModel/{model_name}'\n",
    "    try:\n",
    "        os.makedirs(dir)\n",
    "        print(f'SUCCESS CREATING {model_name} DIRECTORY')\n",
    "    except:\n",
    "        print('FOLDER ALREADY EXISTS')\n",
    "    model.save(f'{dir}/model.h5')\n",
    "    print('SUCCESS SAVING MODEL')\n",
    "    with open(f'{dir}/history.json', 'w') as f:\n",
    "        json.dump(history, f)\n",
    "    print('SUCCESS SAVING HISTORY MODEL')"
   ]
  },
  {
   "cell_type": "markdown",
   "id": "91321f37",
   "metadata": {},
   "source": [
    "## Model 1"
   ]
  },
  {
   "cell_type": "code",
   "execution_count": null,
   "id": "353e9c68",
   "metadata": {},
   "outputs": [],
   "source": [
    "model = unet((256,256,3))\n",
    "model.summary()"
   ]
  },
  {
   "cell_type": "code",
   "execution_count": null,
   "id": "56dc261a",
   "metadata": {},
   "outputs": [],
   "source": [
    "model.compile(optimizer = Adam(learning_rate=1e-4),\n",
    "              loss = 'BinaryCrossentropy',\n",
    "              metrics=[BinaryIoU_func])\n",
    "\n",
    "result = model.fit(X_train,\n",
    "                   y_train,\n",
    "                   validation_data = (X_valid, y_valid),\n",
    "                   batch_size = 32,\n",
    "                   epochs = 50,\n",
    "                   verbose = 2)"
   ]
  },
  {
   "cell_type": "code",
   "execution_count": null,
   "id": "8bc83a2b",
   "metadata": {},
   "outputs": [],
   "source": [
    "# Plot loss and IoU\n",
    "plt.plot(result.history[\"loss\"], color='r', label = 'train_loss')\n",
    "plt.plot(result.history[\"val_loss\"], color='b', label = 'val_loss')\n",
    "plt.title('Loss')\n",
    "plt.legend()\n",
    "plt.show()\n",
    "\n",
    "plt.plot(result.history[\"BinaryIoU_func\"], color='r', label = 'train_IoU')\n",
    "plt.plot(result.history[\"val_BinaryIoU_func\"], color='b', label = 'val_IoU')\n",
    "plt.title('IoU')\n",
    "plt.legend()\n",
    "plt.show()"
   ]
  },
  {
   "cell_type": "code",
   "execution_count": null,
   "id": "abebf77f",
   "metadata": {},
   "outputs": [],
   "source": [
    "# Save model\n",
    "save_segmentation_model(model_name= 'UNET', model = model, history=result.history)"
   ]
  },
  {
   "cell_type": "markdown",
   "id": "e362982a",
   "metadata": {},
   "source": [
    "## Model 2"
   ]
  },
  {
   "cell_type": "code",
   "execution_count": null,
   "id": "a396ff35",
   "metadata": {},
   "outputs": [],
   "source": [
    "model = unetmod((256,256,3))\n",
    "model.summary()"
   ]
  },
  {
   "cell_type": "code",
   "execution_count": null,
   "id": "c8421935",
   "metadata": {},
   "outputs": [],
   "source": [
    "model.compile(optimizer = Adam(learning_rate=1e-4),\n",
    "              loss = 'BinaryCrossentropy',\n",
    "              metrics=[BinaryIoU_func])"
   ]
  },
  {
   "cell_type": "code",
   "execution_count": null,
   "id": "081d073e",
   "metadata": {},
   "outputs": [],
   "source": [
    "result = model.fit(X_train,\n",
    "                   y_train,\n",
    "                   validation_data = (X_valid, y_valid),\n",
    "                   batch_size = 32,\n",
    "                   epochs = 50,\n",
    "                   verbose = 2)"
   ]
  },
  {
   "cell_type": "code",
   "execution_count": null,
   "id": "da09e207",
   "metadata": {},
   "outputs": [],
   "source": [
    "plt.plot(result.history[\"loss\"], color='r', label = 'train_loss')\n",
    "plt.plot(result.history[\"val_loss\"], color='b', label = 'val_loss')\n",
    "plt.title('Loss')\n",
    "plt.legend()\n",
    "plt.show()\n",
    "\n",
    "plt.plot(result.history[\"BinaryIoU_func\"], color='r', label = 'train_IoU')\n",
    "plt.plot(result.history[\"val_BinaryIoU_func\"], color='b', label = 'val_IoU')\n",
    "plt.title('IoU')\n",
    "plt.legend()\n",
    "plt.show()"
   ]
  },
  {
   "cell_type": "code",
   "execution_count": null,
   "id": "0b0e95de",
   "metadata": {},
   "outputs": [],
   "source": [
    "plt.plot(result.history[\"loss\"], color='r', label = 'train_loss')\n",
    "plt.plot(result.history[\"val_loss\"], color='b', label = 'val_loss')\n",
    "plt.title('Loss')\n",
    "plt.legend()\n",
    "plt.show()\n",
    "\n",
    "plt.plot(result.history[\"BinaryIoU_func\"], color='r', label = 'train_IoU')\n",
    "plt.plot(result.history[\"val_BinaryIoU_func\"], color='b', label = 'val_IoU')\n",
    "plt.title('IoU')\n",
    "plt.legend()\n",
    "plt.show()"
   ]
  },
  {
   "cell_type": "code",
   "execution_count": null,
   "id": "2b512089",
   "metadata": {},
   "outputs": [],
   "source": [
    "# Save model\n",
    "save_segmentation_model(model_name= 'UNET_Mod', model = model, history=result.history)"
   ]
  },
  {
   "cell_type": "markdown",
   "id": "0804e859",
   "metadata": {},
   "source": [
    "## Model 3"
   ]
  },
  {
   "cell_type": "code",
   "execution_count": null,
   "id": "bd1897c6",
   "metadata": {},
   "outputs": [],
   "source": [
    "model = unet_vgg19((256,256,3))\n",
    "model.summary()"
   ]
  },
  {
   "cell_type": "code",
   "execution_count": null,
   "id": "b2848276",
   "metadata": {},
   "outputs": [],
   "source": [
    "model.compile(optimizer = Adam(learning_rate=1e-4),\n",
    "              loss = 'BinaryCrossentropy',\n",
    "              metrics=[BinaryIoU_func])"
   ]
  },
  {
   "cell_type": "code",
   "execution_count": null,
   "id": "24d87928",
   "metadata": {},
   "outputs": [],
   "source": [
    "result = model.fit(X_train,\n",
    "                   y_train,\n",
    "                   validation_data = (X_valid, y_valid),\n",
    "                   batch_size = 32,\n",
    "                   epochs = 50,\n",
    "                   verbose = 2)"
   ]
  },
  {
   "cell_type": "code",
   "execution_count": null,
   "id": "99f23eb9",
   "metadata": {},
   "outputs": [],
   "source": [
    "plt.plot(result.history[\"loss\"], color='r', label = 'train_loss')\n",
    "plt.plot(result.history[\"val_loss\"], color='b', label = 'val_loss')\n",
    "plt.title('Loss')\n",
    "plt.legend()\n",
    "plt.show()\n",
    "\n",
    "plt.plot(result.history[\"BinaryIoU_func\"], color='r', label = 'train_IoU')\n",
    "plt.plot(result.history[\"BinaryIoU_func\"], color='b', label = 'val_IoU')\n",
    "plt.title('IoU')\n",
    "plt.legend()\n",
    "plt.show()"
   ]
  },
  {
   "cell_type": "code",
   "execution_count": null,
   "id": "f7e16308",
   "metadata": {},
   "outputs": [],
   "source": [
    "# Save model\n",
    "save_segmentation_model(model_name = 'UNET_VGG19', model = model, history = result.history)"
   ]
  },
  {
   "cell_type": "markdown",
   "id": "072a438a",
   "metadata": {},
   "source": [
    "# Comparing The Result"
   ]
  },
  {
   "cell_type": "code",
   "execution_count": null,
   "id": "53f2b739",
   "metadata": {},
   "outputs": [],
   "source": [
    "# Open the result history\n",
    "def open_json(json_path):\n",
    "    with open(json_path, 'r') as f:\n",
    "        data = json.load(f)\n",
    "    return data\n",
    "\n",
    "unet_ori = open_json('/SegmentationModel/UNET/history.json')\n",
    "unet_mod = open_json('/SegmentationModel/UNET_Mod/history.json')\n",
    "unet_vgg = open_json('/SegmentationModel/UNET_VGG19/history.json')"
   ]
  },
  {
   "cell_type": "code",
   "execution_count": null,
   "id": "66b14364",
   "metadata": {},
   "outputs": [],
   "source": [
    "epochs = len(ori_IoU)\n",
    "\n",
    "# Plot result\n",
    "def plot_result(ori, mod, vgg, type_metrics, type_data):\n",
    "    epochs = range(len(ori))\n",
    "    plt.plot(epochs, ori, label = 'Model1')\n",
    "    plt.plot(epochs, mod, label = 'Model2')\n",
    "    plt.plot(epochs, vgg, label = 'Model3')\n",
    "    plt.legend()\n",
    "    plt.title(f'{type_metrics} ({type_data})')\n",
    "    plt.xlabel('Epoch')\n",
    "    plt.ylabel(f'{type_metrics}')\n",
    "    plt.show()"
   ]
  },
  {
   "cell_type": "code",
   "execution_count": null,
   "id": "c786c724",
   "metadata": {},
   "outputs": [],
   "source": [
    "# Loss\n",
    "ori_loss = unet_ori['loss']\n",
    "mod_loss = unet_mod['loss']\n",
    "vgg_loss = unet_vgg['loss']\n",
    "\n",
    "# Val loss\n",
    "ori_val_loss = unet_ori['val_loss']\n",
    "mod_val_loss = unet_mod['val_loss']\n",
    "vgg_val_loss = unet_vgg['val_loss']\n",
    "\n",
    "# IoU\n",
    "ori_IoU = unet_ori['BinaryIoU_func']\n",
    "mod_IoU = unet_mod['BinaryIoU_func']\n",
    "vgg_IoU = unet_vgg['BinaryIoU_func']\n",
    "\n",
    "# val_IoU\n",
    "ori_val_IoU = unet_ori['val_BinaryIoU_func']\n",
    "mod_val_IoU = unet_mod['val_BinaryIoU_func']\n",
    "vgg_val_IoU = unet_vgg['val_BinaryIoU_func']"
   ]
  },
  {
   "cell_type": "code",
   "execution_count": null,
   "id": "ed5f55ce",
   "metadata": {},
   "outputs": [],
   "source": [
    "plot_result(ori_loss, mod_loss, vgg_loss, 'Loss', 'Training Data')\n",
    "plot_result(ori_val_loss, mod_val_loss, vgg_val_loss, 'Loss', 'Validation Data')\n",
    "plot_result(ori_IoU, mod_IoU, vgg_IoU, 'IoU', 'Training Data')\n",
    "plot_result(ori_val_IoU, mod_val_IoU, vgg_val_IoU, 'IoU', 'Validation Data')"
   ]
  }
 ],
 "metadata": {
  "kernelspec": {
   "display_name": "Python 3 (ipykernel)",
   "language": "python",
   "name": "python3"
  },
  "language_info": {
   "codemirror_mode": {
    "name": "ipython",
    "version": 3
   },
   "file_extension": ".py",
   "mimetype": "text/x-python",
   "name": "python",
   "nbconvert_exporter": "python",
   "pygments_lexer": "ipython3",
   "version": "3.9.7"
  },
  "toc": {
   "base_numbering": 1,
   "nav_menu": {},
   "number_sections": true,
   "sideBar": true,
   "skip_h1_title": false,
   "title_cell": "Table of Contents",
   "title_sidebar": "Contents",
   "toc_cell": false,
   "toc_position": {},
   "toc_section_display": true,
   "toc_window_display": false
  }
 },
 "nbformat": 4,
 "nbformat_minor": 5
}
