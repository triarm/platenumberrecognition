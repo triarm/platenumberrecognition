{
 "cells": [
  {
   "cell_type": "code",
   "execution_count": null,
   "id": "e3b17358",
   "metadata": {},
   "outputs": [],
   "source": [
    "import json, os, cv2, shutil\n",
    "import pandas as pd\n",
    "import numpy as np\n",
    "import matplotlib.pyplot as plt\n",
    "from google.colab import drive\n",
    "from google.colab.patches import cv2_imshow\n",
    "from tqdm.notebook import tqdm\n",
    "\n",
    "import tensorflow as tf\n",
    "from keras_preprocessing.image import ImageDataGenerator\n",
    "from tensorflow.keras.applications import VGG19, VGG16\n",
    "from tensorflow.keras.optimizers import *"
   ]
  },
  {
   "cell_type": "code",
   "execution_count": null,
   "id": "ee0c516e",
   "metadata": {},
   "outputs": [],
   "source": [
    "def training_model(model):\n",
    "    \"\"\"\n",
    "    Function to training model\n",
    "    \"\"\"\n",
    "    model.summary()\n",
    "    model.compile(optimizer=Adam(learning_rate=1e-4),\n",
    "                        loss='categorical_crossentropy',\n",
    "                        metrics=['accuracy'])\n",
    "    \n",
    "    history = model.fit(train_generator,\n",
    "            validation_data=validation_generator,\n",
    "            epochs=50,\n",
    "            verbose=2)\n",
    "    \n",
    "    plt.plot(history.history['accuracy'], label = 'train')\n",
    "    plt.plot(history.history['val_accuracy'], label = 'val')\n",
    "    plt.title('Accuracy')\n",
    "    plt.legend()\n",
    "    plt.show()\n",
    "\n",
    "    plt.plot(history.history['loss'], label = 'train')\n",
    "    plt.plot(history.history['val_loss'], label = 'val')\n",
    "    plt.title('Loss')\n",
    "    plt.legend()\n",
    "    plt.show()\n",
    "    \n",
    "    return model, history"
   ]
  },
  {
   "cell_type": "code",
   "execution_count": null,
   "id": "a331afcb",
   "metadata": {},
   "outputs": [],
   "source": [
    "def save_char_model(model_name, model, history):\n",
    "    '''\n",
    "    Save Model\n",
    "    '''\n",
    "    dir = f'./Character Recognition Model/75x75/{model_name}'\n",
    "    try:\n",
    "        os.makedirs(dir)\n",
    "        print(f'SUCCESS CREATING {model_name} DIRECTORY')\n",
    "    except:\n",
    "        print('FOLDER ALREADY EXISTS')\n",
    "    model.save(f'{dir}/model.h5')\n",
    "    print('SUCCESS SAVING MODEL')\n",
    "    with open(f'{dir}/history.json', 'w') as f:\n",
    "        json.dump(history, f)\n",
    "    print('SUCCESS SAVING HISTORY MODEL')"
   ]
  },
  {
   "cell_type": "code",
   "execution_count": null,
   "id": "7b783787",
   "metadata": {},
   "outputs": [],
   "source": [
    "DATA_DIR = './Character Data'"
   ]
  },
  {
   "cell_type": "markdown",
   "id": "71b0434f",
   "metadata": {},
   "source": [
    "# Preprocessing"
   ]
  },
  {
   "cell_type": "code",
   "execution_count": null,
   "id": "ae6f61b1",
   "metadata": {},
   "outputs": [],
   "source": [
    "# See the distribution of data\n",
    "count = {}\n",
    "for character in os.listdir(DATA_DIR):\n",
    "    count[character] = len(os.listdir(f'{DATA_DIR}/{character}'))\n",
    "    \n",
    "key = count.keys()\n",
    "value = count.values()\n",
    "df = pd.DataFrame({\n",
    "    'Char': key,\n",
    "    'Frequency': value,\n",
    "})\n",
    "df.sort_values(by='Frequency', inplace=True)\n",
    "\n",
    "plt.bar(df.Char, df.Frequency)\n",
    "plt.show()"
   ]
  },
  {
   "cell_type": "code",
   "execution_count": null,
   "id": "36a6be87",
   "metadata": {},
   "outputs": [],
   "source": [
    "from random import seed, randint\n",
    "seed(42)\n",
    "plt.figure(figsize=(100,50))\n",
    "for idx, folder in enumerate(sorted(os.listdir(DATA_DIR))):\n",
    "    img = os.listdir(f'{DATA_DIR}/{folder}')[randint(0, 120)]\n",
    "    path = f'{DATA_DIR}/{folder}/{img}'\n",
    "    plt.subplot(4,10,idx+1)\n",
    "    image = cv2.imread(path)\n",
    "    plt.imshow(image)"
   ]
  },
  {
   "cell_type": "code",
   "execution_count": null,
   "id": "84e881dd",
   "metadata": {},
   "outputs": [],
   "source": [
    "training_datagen = ImageDataGenerator(validation_split=0.2,\n",
    "                                      rescale = 1./255.,\n",
    "                                      rotation_range = 3,\n",
    "                                      brightness_range = (0.2,0.9))\n",
    "\n",
    "train_generator = training_datagen.flow_from_directory(directory=DATA_DIR,\n",
    "                                                     subset='training',\n",
    "                                                     batch_size = 64,\n",
    "                                                     class_mode = 'categorical',\n",
    "                                                     target_size = (75, 75)\n",
    "                                                     )\n",
    "\n",
    "validation_generator = training_datagen.flow_from_directory(directory=DATA_DIR,\n",
    "                                                            subset='validation',\n",
    "                                                            batch_size=32,\n",
    "                                                            class_mode='categorical',\n",
    "                                                            target_size=(75, 75)\n",
    "                                                            )"
   ]
  },
  {
   "cell_type": "markdown",
   "id": "80897d33",
   "metadata": {},
   "source": [
    "# Training"
   ]
  },
  {
   "cell_type": "markdown",
   "id": "95dda518",
   "metadata": {},
   "source": [
    "## Model Without Transfer Learning"
   ]
  },
  {
   "cell_type": "code",
   "execution_count": null,
   "id": "08c0b507",
   "metadata": {},
   "outputs": [],
   "source": [
    "# Model Architecture\n",
    "model2 = tf.keras.models.Sequential([\n",
    "        tf.keras.layers.Conv2D(128, (3, 3), activation='relu', input_shape=(75, 75, 3), padding = 'same'),\n",
    "        tf.keras.layers.MaxPooling2D(2, 2),\n",
    "        tf.keras.layers.Conv2D(64, (3, 3), activation='relu', padding = 'same'),\n",
    "        tf.keras.layers.MaxPooling2D(2, 2),\n",
    "        tf.keras.layers.Conv2D(16, (3, 3), activation='relu', padding = 'same'),\n",
    "        tf.keras.layers.MaxPooling2D(2, 2),\n",
    "        tf.keras.layers.Flatten(),\n",
    "        tf.keras.layers.Dropout(0.5),\n",
    "        tf.keras.layers.Dense(128, activation='relu'),\n",
    "        tf.keras.layers.Dropout(0.5),\n",
    "        tf.keras.layers.Dense(64, activation='relu'),\n",
    "        tf.keras.layers.Dense(36, activation='softmax')\n",
    "    ])\n",
    "\n",
    "model2, history_model2 = training_model(model2)"
   ]
  },
  {
   "cell_type": "code",
   "execution_count": null,
   "id": "f0a737bd",
   "metadata": {},
   "outputs": [],
   "source": [
    "save_char_model(model_name = \"model2\", model = model2, history = history_model2.history)"
   ]
  },
  {
   "cell_type": "markdown",
   "id": "fd018135",
   "metadata": {},
   "source": [
    "## Model Transfer Learning with VGG16"
   ]
  },
  {
   "cell_type": "code",
   "execution_count": null,
   "id": "f15bbabb",
   "metadata": {},
   "outputs": [],
   "source": [
    "vgg16 = VGG16(input_shape = (75, 75, 3), \n",
    "            include_top = False, \n",
    "            weights = 'imagenet')\n",
    "\n",
    "for layer in vgg16.layers:\n",
    "    layer.trainable = False\n",
    "\n",
    "x = tf.keras.layers.Conv2D(128, (3, 3), activation='relu')(vgg16.get_layer('block4_pool').output)\n",
    "x = tf.keras.layers.Flatten()(x)\n",
    "x = tf.keras.layers.Dense(256, activation = 'relu')(x)\n",
    "x = tf.keras.layers.Dropout(0.6)(x)\n",
    "x = tf.keras.layers.Dense(64, activation = 'relu')(x)\n",
    "x = tf.keras.layers.Dropout(0.6)(x)\n",
    "x = tf.keras.layers.Dense(36, activation = 'softmax')(x)\n",
    "\n",
    "model_vgg16 = tf.keras.Model(vgg16.input, x)\n",
    "\n",
    "model_vgg16, history_vgg16 = training_model(model_vgg16)"
   ]
  },
  {
   "cell_type": "code",
   "execution_count": null,
   "id": "fcc09bd0",
   "metadata": {},
   "outputs": [],
   "source": [
    "save_char_model(model_name = \"model_vgg16\", model = model_vgg16, history = history_vgg16.history)"
   ]
  },
  {
   "cell_type": "markdown",
   "id": "ff168e69",
   "metadata": {},
   "source": [
    "## Model Transfer Learning with VGG19"
   ]
  },
  {
   "cell_type": "code",
   "execution_count": null,
   "id": "97d139be",
   "metadata": {},
   "outputs": [],
   "source": [
    "vgg19 = VGG19(input_shape = (75, 75, 3), \n",
    "            include_top = False, \n",
    "            weights = 'imagenet')\n",
    "\n",
    "for layer in vgg19.layers:\n",
    "    layer.trainable = False\n",
    "\n",
    "x = tf.keras.layers.Conv2D(128, (3, 3), activation='relu')(vgg19.get_layer('block4_pool').output)\n",
    "x = tf.keras.layers.Flatten()(x)\n",
    "x = tf.keras.layers.Dense(256, activation = 'relu')(x)\n",
    "x = tf.keras.layers.Dropout(0.6)(x)\n",
    "x = tf.keras.layers.Dense(64, activation = 'relu')(x)\n",
    "x = tf.keras.layers.Dropout(0.6)(x)\n",
    "x = tf.keras.layers.Dense(36, activation = 'softmax')(x)\n",
    "\n",
    "model_vgg19 = tf.keras.Model(pre_trained_model.input, x)\n",
    "\n",
    "model_vgg19, history_vgg19 = training_model(model_vgg19)"
   ]
  },
  {
   "cell_type": "code",
   "execution_count": null,
   "id": "6fb56b67",
   "metadata": {},
   "outputs": [],
   "source": [
    "save_char_model(model_name = \"model_vgg19\", model = model_vgg19, history = history_vgg19.history)"
   ]
  },
  {
   "cell_type": "markdown",
   "id": "1387804d",
   "metadata": {},
   "source": [
    "# Compare Performance"
   ]
  },
  {
   "cell_type": "code",
   "execution_count": null,
   "id": "d4a98863",
   "metadata": {},
   "outputs": [],
   "source": [
    "def open_json(json_path):\n",
    "    with open(json_path, 'r') as f:\n",
    "        data = json.load(f)\n",
    "    return data\n",
    "\n",
    "model2 = open_json('./Character Recognition Model/75x75/model2/history.json')\n",
    "model_vgg16 = open_json('./Character Recognition Model/75x75/model_vgg16/history.json')\n",
    "model_vgg19 = open_json('./Character Recognition Model/75x75/model_vgg19/history.json')"
   ]
  },
  {
   "cell_type": "code",
   "execution_count": null,
   "id": "918966d6",
   "metadata": {},
   "outputs": [],
   "source": [
    "def get_metrics(list_model):\n",
    "    \"\"\"\n",
    "    Get Every Metrics from Model\n",
    "    \"\"\"\n",
    "    acc, val_acc, loss, val_loss = {}, {}, {}, {}\n",
    "    for i, model in enumerate(list_model):\n",
    "        acc[f'model_{i}'] = model['accuracy']\n",
    "        val_acc[f'model_{i}'] = model['val_accuracy']\n",
    "        loss[f'model_{i}'] = model['loss']\n",
    "        val_loss[f'model_{i}'] = model['val_loss']    \n",
    "\n",
    "    return acc, val_acc, loss, val_loss\n",
    "\n",
    "acc, val_acc, loss, val_loss = get_metrics([model2, model_vgg16, model_vgg19])"
   ]
  },
  {
   "cell_type": "code",
   "execution_count": null,
   "id": "920716d2",
   "metadata": {},
   "outputs": [],
   "source": [
    "acc = pd.DataFrame(acc)\n",
    "acc.columns = ['Model Klasifikasi 1', 'Model Klasifikasi 2', 'Model Klasifikasi 3']\n",
    "acc.plot(title = 'Akurasi (Training Set)',\n",
    "         xlabel = 'Epoch',\n",
    "         ylabel = 'Akurasi')"
   ]
  },
  {
   "cell_type": "code",
   "execution_count": null,
   "id": "64e9d5a1",
   "metadata": {},
   "outputs": [],
   "source": [
    "val_acc = pd.DataFrame(val_acc)\n",
    "val_acc.columns = ['Model Klasifikasi 1', 'Model Klasifikasi 2', 'Model Klasifikasi 3']\n",
    "val_acc.plot(title = 'Akurasi (Validation Set)',\n",
    "         xlabel = 'Epoch',\n",
    "         ylabel = 'Akurasi')"
   ]
  },
  {
   "cell_type": "code",
   "execution_count": null,
   "id": "9b04e2fc",
   "metadata": {},
   "outputs": [],
   "source": [
    "loss = pd.DataFrame(loss)\n",
    "loss.columns = ['Model Klasifikasi 1', 'Model Klasifikasi 2', 'Model Klasifikasi 3']\n",
    "loss.plot(title = 'Loss (Training Set)',\n",
    "         xlabel = 'Epochs',\n",
    "         ylabel = 'loss')"
   ]
  },
  {
   "cell_type": "code",
   "execution_count": null,
   "id": "208735df",
   "metadata": {},
   "outputs": [],
   "source": [
    "val_loss = pd.DataFrame(val_loss)\n",
    "val_loss.columns = ['Model Klasifikasi 1', 'Model Klasifikasi 2', 'Model Klasifikasi 3']\n",
    "val_loss.plot(title = 'Loss (Validation Set)',\n",
    "         xlabel = 'Epochs',\n",
    "         ylabel = 'loss')"
   ]
  },
  {
   "cell_type": "code",
   "execution_count": null,
   "id": "2e17838d",
   "metadata": {},
   "outputs": [],
   "source": [
    "last_acc = acc.tail(1).T\n",
    "last_val_acc = val_acc.tail(1).T\n",
    "last_loss = loss.tail(1).T\n",
    "last_val_loss = val_loss.tail(1).T"
   ]
  },
  {
   "cell_type": "code",
   "execution_count": null,
   "id": "ba1dfa9c",
   "metadata": {},
   "outputs": [],
   "source": [
    "# Metrics in Last Iteration\n",
    "last_df = pd.concat([last_acc, last_val_acc, last_loss, last_val_loss], axis = 1)\n",
    "last_df.columns = ['Accuracy', 'Val Accuracy', 'Loss', 'Val Loss']\n",
    "last_df"
   ]
  }
 ],
 "metadata": {
  "kernelspec": {
   "display_name": "Python 3 (ipykernel)",
   "language": "python",
   "name": "python3"
  },
  "language_info": {
   "codemirror_mode": {
    "name": "ipython",
    "version": 3
   },
   "file_extension": ".py",
   "mimetype": "text/x-python",
   "name": "python",
   "nbconvert_exporter": "python",
   "pygments_lexer": "ipython3",
   "version": "3.9.7"
  },
  "toc": {
   "base_numbering": 1,
   "nav_menu": {},
   "number_sections": true,
   "sideBar": true,
   "skip_h1_title": false,
   "title_cell": "Table of Contents",
   "title_sidebar": "Contents",
   "toc_cell": false,
   "toc_position": {},
   "toc_section_display": true,
   "toc_window_display": false
  }
 },
 "nbformat": 4,
 "nbformat_minor": 5
}
